{
 "cells": [
  {
   "cell_type": "markdown",
   "id": "9cdc71c2",
   "metadata": {},
   "source": [
    "## Data Science Tools and Ecosystem"
   ]
  },
  {
   "cell_type": "markdown",
   "id": "7a1f7b8c",
   "metadata": {},
   "source": [
    "In this notebook, Data Science Tools and Ecosystem are summarized from all my learning journey in IBM course offered trough Coursera platform."
   ]
  },
  {
   "cell_type": "markdown",
   "id": "a0ede03c",
   "metadata": {},
   "source": [
    "### Exercise 4\n",
    "\n",
    "Some of data science languages:\n",
    "* Phython\n",
    "* R\n",
    "* SQL\n",
    "* Scala\n",
    "* Julia\n",
    "* Java\n",
    "* C++\n",
    "* JavaScript\n",
    "* GO\n",
    "* PHP\n",
    "* Ruby\n",
    "* Visual Basic"
   ]
  },
  {
   "cell_type": "markdown",
   "id": "9282613c",
   "metadata": {},
   "source": [
    "### Exercise 5\n",
    "\n",
    "Some of data science libraries:\n",
    "* Phython\n",
    "    1. matplotlib\n",
    "    2. numpy\n",
    "    3. seaborn\n",
    "* R\n",
    "    1. ggplt\n",
    "    2. caret\n",
    "    3. plotly"
   ]
  },
  {
   "cell_type": "markdown",
   "id": "6891f949",
   "metadata": {},
   "source": [
    "### Exercise 6\n",
    "\n",
    "| Tool           | Category              | Description                                      |\n",
    "|----------------|-----------------------|--------------------------------------------------|\n",
    "| R              | Programming Language  | Used for statistical computing and graphics      |\n",
    "| Python         | Programming Language  | Versatile language with rich data science libraries |\n",
    "| Jupyter Notebook | IDE / Environment   | Interactive coding environment for Python, R, etc. |\n",
    "| TensorFlow     | Machine Learning      | Open-source library for deep learning            |\n",
    "| Apache Spark   | Big Data Processing   | Distributed computing for large-scale data       |\n",
    "| Excel          | Spreadsheet Tool      | Widely used for data analysis and visualization  |\n"
   ]
  },
  {
   "cell_type": "markdown",
   "id": "c6757b3a",
   "metadata": {},
   "source": [
    "### Exercise 7 and 8"
   ]
  },
  {
   "cell_type": "markdown",
   "id": "69a2598f",
   "metadata": {},
   "source": [
    "Below are few examples of evaluating arithmetic expressions in Python.\n",
    "\n",
    "**Examples:**\n",
    "\n",
    "- `5 + 3` → Addition  \n",
    "- `10 - 4` → Subtraction  \n",
    "- `6 * 2` → Multiplication  \n",
    "- `8 / 2` → Division  \n",
    "- `2^3` → Exponentiation (2 raised to the power of 3)\n"
   ]
  },
  {
   "cell_type": "code",
   "execution_count": 2,
   "id": "45b4bd26",
   "metadata": {},
   "outputs": [
    {
     "name": "stdout",
     "output_type": "stream",
     "text": [
      "5 + 9 = 14\n",
      "5 * 9 = 45\n"
     ]
    }
   ],
   "source": [
    "x = int(input('Type the first number: '))\n",
    "y = int(input('Type the second number: '))\n",
    "\n",
    "print('{} + {} = {}'.format(x, y, x+y))\n",
    "print('{} * {} = {}'.format(x, y, x*y))"
   ]
  },
  {
   "cell_type": "markdown",
   "id": "b4ba70b3",
   "metadata": {},
   "source": [
    "### Exercise 9"
   ]
  },
  {
   "cell_type": "code",
   "execution_count": 2,
   "id": "97e0a73e",
   "metadata": {},
   "outputs": [
    {
     "name": "stdout",
     "output_type": "stream",
     "text": [
      "Your amount in minutes will be translated to 4.0 hours.\n"
     ]
    }
   ],
   "source": [
    "minutes = int(input('Write a amount in minutes to be converted to hours.'))\n",
    "\n",
    "print('Your amount in minutes will be translated to {:.2} hours.'.format(minutes/60))"
   ]
  },
  {
   "cell_type": "markdown",
   "id": "88ce4a8e",
   "metadata": {},
   "source": [
    "### Exercise 10\n",
    "\n",
    "The main objectives for this training are:\n",
    "\n",
    "- Add comments to code cells.\n",
    "- Create markdown cells.\n",
    "- Add ordered and unordered lists to markdown cells.\n",
    "- Format content of markdown cells with heading styles\n"
   ]
  },
  {
   "cell_type": "markdown",
   "id": "1a379a6c",
   "metadata": {},
   "source": [
    "### 👤 Author\n",
    "\n",
    "**Name:** Vinicius\n"
   ]
  },
  {
   "cell_type": "markdown",
   "id": "45ebf835",
   "metadata": {},
   "source": []
  }
 ],
 "metadata": {
  "kernelspec": {
   "display_name": "Python 3",
   "language": "python",
   "name": "python3"
  },
  "language_info": {
   "codemirror_mode": {
    "name": "ipython",
    "version": 3
   },
   "file_extension": ".py",
   "mimetype": "text/x-python",
   "name": "python",
   "nbconvert_exporter": "python",
   "pygments_lexer": "ipython3",
   "version": "3.13.6"
  }
 },
 "nbformat": 4,
 "nbformat_minor": 5
}
